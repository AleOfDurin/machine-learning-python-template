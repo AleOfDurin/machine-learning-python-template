{
    "cells": [
        {
            "cell_type": "markdown",
            "metadata": {},
            "source": [
                "# Explore here"
            ]
        },
        {
            "cell_type": "code",
            "execution_count": null,
            "metadata": {},
            "outputs": [],
            "source": [
                "import sys\n",
                "sys.path.append(\"/Users/jesus/.pyenv/versions/3.10.16/lib/python3.10/site-packages\")\n",
                "import pandas as pd\n",
                "print(pd.__version__)\n",
                "import pandas as pd\n",
                "from sklearn.model_selection import train_test_split\n",
                "from tensorflow.keras.layers import Dense, Flatten\n",
                "from tensorflow.keras.models import Sequential\n",
                "from tensorflow.keras.utils import set_random_seed\n",
                "from tensorflow.keras.models import Sequential\n",
                "from tensorflow.keras.layers import Conv2D, MaxPool2D, Flatten, Dense\n",
                "set_random_seed(42)\n",
                "from tensorflow.keras.preprocessing.image import ImageDataGenerator\n",
                "from tensorflow.keras.callbacks import ModelCheckpoint, EarlyStopping"
            ]
        },
        {
            "cell_type": "code",
            "execution_count": null,
            "metadata": {},
            "outputs": [],
            "source": [
                "total_data = pd.read_csv(\"/Users/jesus/Desktop/4geeks/4geeks - INTRO TO DEEP LEARNING/jesus-cuenca-machine-learning-python-template/data/raw/sampleSubmission.csv\")\n",
                "\n",
                "total_data.head()"
            ]
        },
        {
            "cell_type": "code",
            "execution_count": null,
            "metadata": {},
            "outputs": [],
            "source": [
                "total_data.info"
            ]
        },
        {
            "cell_type": "code",
            "execution_count": null,
            "metadata": {},
            "outputs": [],
            "source": [
                "import zipfile\n",
                "import os\n",
                "import shutil\n",
                "\n",
                "# Rutas para los archivos zip y las rutas de extracción\n",
                "train_zip_path = \"/Users/jesus/Desktop/4geeks/4geeks - INTRO TO DEEP LEARNING/jesus-cuenca-machine-learning-python-template/data/processed/train.zip\"\n",
                "train_extract_path = \"/Users/jesus/Desktop/4geeks/4geeks - INTRO TO DEEP LEARNING/jesus-cuenca-machine-learning-python-template/data/processed/train/train\"\n",
                "cat_folder = \"/Users/jesus/Desktop/4geeks/4geeks - INTRO TO DEEP LEARNING/jesus-cuenca-machine-learning-python-template/data/processed/train/cat\"\n",
                "dog_folder = \"/Users/jesus/Desktop/4geeks/4geeks - INTRO TO DEEP LEARNING/jesus-cuenca-machine-learning-python-template/data/processed/train/dog\"\n",
                "\n",
                "# Crear carpetas de cat y dog si no existen\n",
                "os.makedirs(cat_folder, exist_ok=True)\n",
                "os.makedirs(dog_folder, exist_ok=True)\n",
                "\n",
                "# Extraer archivos si no están ya descomprimidos\n",
                "if not os.path.exists(train_extract_path):\n",
                "    with zipfile.ZipFile(train_zip_path, 'r') as zip_ref:\n",
                "        zip_ref.extractall(os.path.dirname(train_extract_path))\n",
                "\n",
                "print(\"✅ Archivos descomprimidos correctamente.\")\n",
                "\n",
                "# Mostrar el contenido de la carpeta de extracción\n",
                "print(\"Contenido de la carpeta de extracción:\")\n",
                "print(os.listdir(os.path.dirname(train_extract_path)))\n",
                "\n",
                "# Mover imágenes a las carpetas correspondientes\n",
                "for img_file in os.listdir(train_extract_path):\n",
                "    if img_file.startswith(\"cat\") and (img_file.endswith('.jpg') or img_file.endswith('.jpeg') or img_file.endswith('.png')):\n",
                "        shutil.move(os.path.join(train_extract_path, img_file), os.path.join(cat_folder, img_file))\n",
                "        print(f\"Moviendo {img_file} a la carpeta cat.\")\n",
                "    elif img_file.startswith(\"dog\") and (img_file.endswith('.jpg') or img_file.endswith('.jpeg') or img_file.endswith('.png')):\n",
                "        shutil.move(os.path.join(train_extract_path, img_file), os.path.join(dog_folder, img_file))\n",
                "        print(f\"Moviendo {img_file} a la carpeta dog.\")\n",
                "\n",
                "# Vaciar la carpeta train (eliminar solo archivos)\n",
                "for img_file in os.listdir(train_extract_path):\n",
                "    file_path = os.path.join(train_extract_path, img_file)\n",
                "    if os.path.isfile(file_path):  # Asegúrate de que sea un archivo\n",
                "        os.remove(file_path)\n",
                "\n",
                "print(\"✅ Carpeta train vaciada.\")\n",
                "\n",
                "# Eliminar la carpeta train\n",
                "shutil.rmtree(train_extract_path)\n",
                "print(\"✅ Carpeta 'train' eliminada.\")\n",
                "\n",
                "print(f\"Número de imágenes en cat: {len(os.listdir(cat_folder))}\")\n",
                "print(f\"Número de imágenes en dog: {len(os.listdir(dog_folder))}\")\n",
                "\n"
            ]
        },
        {
            "cell_type": "code",
            "execution_count": null,
            "metadata": {},
            "outputs": [],
            "source": [
                "import matplotlib.pyplot as plt\n",
                "import os\n",
                "import cv2\n",
                "\n",
                "# Función para cargar y mostrar imágenes\n",
                "def mostrar_imagenes(carpeta, titulo, num_imagenes=9):\n",
                "    # Obtener una lista de todas las imágenes en la carpeta\n",
                "    imagenes = os.listdir(carpeta)\n",
                "    \n",
                "    # Seleccionar solo las primeras 'num_imagenes' imágenes\n",
                "    imagenes = imagenes[:num_imagenes]\n",
                "\n",
                "    # Crear una figura para mostrar las imágenes\n",
                "    fig, axes = plt.subplots(3, 3, figsize=(10, 10))\n",
                "    axes = axes.flatten()  # Aplanar la matriz de ejes\n",
                "\n",
                "    for ax, img_file in zip(axes, imagenes):\n",
                "        img_path = os.path.join(carpeta, img_file)\n",
                "        # Cargar la imagen\n",
                "        img = cv2.imread(img_path)\n",
                "        img = cv2.cvtColor(img, cv2.COLOR_BGR2RGB)  # Convertir de BGR a RGB\n",
                "        ax.imshow(img)\n",
                "        ax.set_title(f\"{titulo} {img_file}\")\n",
                "        ax.axis('off')  # Ocultar los ejes\n",
                "\n",
                "    plt.tight_layout()\n",
                "    plt.show()\n",
                "\n",
                "# Mostrar 9 imágenes de gatos\n",
                "mostrar_imagenes(cat_folder, \"Gato\")\n",
                "\n",
                "# Mostrar 9 imágenes de perros\n",
                "mostrar_imagenes(dog_folder, \"Perro\")\n"
            ]
        },
        {
            "cell_type": "code",
            "execution_count": null,
            "metadata": {},
            "outputs": [],
            "source": [
                "# Generador de datos para entrenamiento y validación\n",
                "train_datagen = ImageDataGenerator(\n",
                "    rescale=1./255,  # Normalización de píxeles (0-1)\n",
                "    validation_split=0.2  # 80% entrenamiento, 20% validación\n",
                ")\n",
                "\n",
                "# Generador para datos de entrenamiento\n",
                "train_generator = train_datagen.flow_from_directory(\n",
                "    \"/Users/jesus/Desktop/4geeks/4geeks - INTRO TO DEEP LEARNING/jesus-cuenca-machine-learning-python-template/data/processed/train\",\n",
                "    target_size=(224, 224),  # Asegúrate de que coincida con el tamaño de entrada del modelo\n",
                "    batch_size=32,\n",
                "    class_mode=\"binary\",  # Cambiado a \"binary\"\n",
                "    subset=\"training\"\n",
                ")\n",
                "\n",
                "val_generator = train_datagen.flow_from_directory(\n",
                "    \"/Users/jesus/Desktop/4geeks/4geeks - INTRO TO DEEP LEARNING/jesus-cuenca-machine-learning-python-template/data/processed/train\",\n",
                "    target_size=(224, 224),  # Asegúrate de que coincida con el tamaño de entrada del modelo\n",
                "    batch_size=32,\n",
                "    class_mode=\"binary\",  # Cambiado a \"binary\"\n",
                "    subset=\"validation\"\n",
                ")\n",
                "\n",
                "# Generador para datos de prueba (puedes cambiar esto según sea necesario)\n",
                "test_datagen = ImageDataGenerator(rescale=1./255)  # Solo normalización\n",
                "test_generator = test_datagen.flow_from_directory(\n",
                "    \"/Users/jesus/Desktop/4geeks/4geeks - INTRO TO DEEP LEARNING/jesus-cuenca-machine-learning-python-template/data/processed/test1\",\n",
                "    target_size=(224, 224),  # Asegúrate de que coincida con el tamaño de entrada del modelo\n",
                "    batch_size=32,\n",
                "    class_mode=None,  # Sin etiquetas para el conjunto de prueba\n",
                "    shuffle=False\n",
                ")\n",
                "\n",
                "print(\"Datos cargados correctamente.\")\n"
            ]
        },
        {
            "cell_type": "code",
            "execution_count": null,
            "metadata": {},
            "outputs": [],
            "source": [
                "model = Sequential()\n",
                "model.add(Conv2D(input_shape = (224,224,3), filters = 64, kernel_size = (3,3), padding = \"same\", activation = \"relu\"))\n",
                "model.add(Conv2D(filters = 64,kernel_size = (3,3),padding = \"same\", activation = \"relu\"))\n",
                "model.add(MaxPool2D(pool_size = (2,2),strides = (2,2)))\n",
                "model.add(Conv2D(filters = 128, kernel_size = (3,3), padding = \"same\", activation = \"relu\"))\n",
                "model.add(Conv2D(filters = 128, kernel_size = (3,3), padding = \"same\", activation = \"relu\"))\n",
                "model.add(MaxPool2D(pool_size = (2,2),strides = (2,2)))\n",
                "model.add(Conv2D(filters = 256, kernel_size = (3,3), padding = \"same\", activation = \"relu\"))\n",
                "model.add(Conv2D(filters = 256, kernel_size = (3,3), padding = \"same\", activation = \"relu\"))\n",
                "model.add(Conv2D(filters = 256, kernel_size = (3,3), padding = \"same\", activation = \"relu\"))\n",
                "model.add(MaxPool2D(pool_size = (2,2),strides = (2,2)))\n",
                "model.add(Conv2D(filters = 512, kernel_size = (3,3), padding = \"same\", activation = \"relu\"))\n",
                "model.add(Conv2D(filters = 512, kernel_size = (3,3), padding = \"same\", activation = \"relu\"))\n",
                "model.add(Conv2D(filters = 512, kernel_size = (3,3), padding = \"same\", activation = \"relu\"))\n",
                "model.add(MaxPool2D(pool_size = (2,2),strides = (2,2)))\n",
                "model.add(Conv2D(filters = 512, kernel_size = (3,3), padding = \"same\", activation = \"relu\"))\n",
                "model.add(Conv2D(filters = 512, kernel_size = (3,3), padding = \"same\", activation = \"relu\"))\n",
                "model.add(Conv2D(filters = 512, kernel_size = (3,3), padding = \"same\", activation = \"relu\"))\n",
                "model.add(MaxPool2D(pool_size = (2,2),strides = (2,2)))\n",
                "model.add(Flatten())\n",
                "model.add(Dense(units = 4096,activation = \"relu\"))\n",
                "model.add(Dense(units = 4096,activation = \"relu\"))\n",
                "model.add(Dense(units = 2, activation = \"softmax\"))"
            ]
        },
        {
            "cell_type": "code",
            "execution_count": null,
            "metadata": {},
            "outputs": [],
            "source": [
                "model.compile(\n",
                "    optimizer=\"adam\",\n",
                "    loss=\"sparse_categorical_crossentropy\",  \n",
                "    metrics=[\"accuracy\"]\n",
                ")"
            ]
        },
        {
            "cell_type": "code",
            "execution_count": null,
            "metadata": {},
            "outputs": [],
            "source": [
                "from tensorflow.keras.callbacks import ModelCheckpoint, EarlyStopping\n",
                "\n",
                "callbacks = [\n",
                "    ModelCheckpoint(filepath='best_model.h5', save_best_only=True, monitor='val_accuracy', mode='max'),\n",
                "    EarlyStopping(monitor='val_loss', patience=5, mode='min')\n",
                "]\n",
                "\n",
                "# Entrenar el modelo\n",
                "history = model.fit(\n",
                "    train_generator,\n",
                "    validation_data=val_generator,\n",
                "    epochs=1,  # Cambia el número de épocas según sea necesario\n",
                "    callbacks=callbacks\n",
                ")"
            ]
        },
        {
            "cell_type": "code",
            "execution_count": null,
            "metadata": {},
            "outputs": [],
            "source": [
                "# Evaluar el modelo en el conjunto de entrenamiento\n",
                "train_loss, train_accuracy = model.evaluate(train_generator)\n",
                "\n",
                "print(f\"Accuracy en el conjunto de entrenamiento: {train_accuracy}\")\n",
                "\n",
                "# Evaluar el modelo en el conjunto de validación\n",
                "val_loss, val_accuracy = model.evaluate(val_generator)\n",
                "\n",
                "print(f\"Accuracy en el conjunto de validación: {val_accuracy}\")"
            ]
        },
        {
            "cell_type": "code",
            "execution_count": null,
            "metadata": {},
            "outputs": [],
            "source": [
                "# Evaluar el modelo en el conjunto de prueba\n",
                "test_loss, test_acc = model.evaluate(test_generator, verbose=2)\n",
                "\n",
                "print('\\nTest accuracy:', test_acc)"
            ]
        },
        {
            "cell_type": "code",
            "execution_count": null,
            "metadata": {},
            "outputs": [],
            "source": [
                "# Guardar el modelo en formato Keras\n",
                "model.save(\"keras_28x28-128-10_42.keras\")"
            ]
        }
    ],
    "metadata": {
        "kernelspec": {
            "display_name": "Python 3.8.13 64-bit ('3.8.13')",
            "language": "python",
            "name": "python3"
        },
        "language_info": {
            "codemirror_mode": {
                "name": "ipython",
                "version": 3
            },
            "file_extension": ".py",
            "mimetype": "text/x-python",
            "name": "python",
            "nbconvert_exporter": "python",
            "pygments_lexer": "ipython3",
            "version": "3.8.13"
        },
        "orig_nbformat": 4,
        "vscode": {
            "interpreter": {
                "hash": "110cc1dee26208153f2972f08a2ad52b6a56238dc66d48e87fb757ef2996db56"
            }
        }
    },
    "nbformat": 4,
    "nbformat_minor": 2
}
